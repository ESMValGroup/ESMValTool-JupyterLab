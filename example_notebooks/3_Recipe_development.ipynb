{
 "cells": [
  {
   "cell_type": "markdown",
   "metadata": {},
   "source": [
    "<img width=200 src=\"https://www.smhi.se/polopoly_fs/1.135796.1527766089!/image/LoggaEUCP.png_gen/derivatives/Original_366px/image/LoggaEUCP.png\"> <img width=200 src=\"https://zenodo.org/api/files/00000000-0000-0000-0000-000000000000/is-enes3/logo.png\"> <img width=200 src=\"https://www.dtls.nl/wp-content/uploads/2015/03/NleSc.png\"> <img width=200 src=\"https://www.dkrz.de/++theme++dkrz.theme/images/logo.png\"> <img width=200 src=\"https://jupyter.org/assets/hublogo.svg\"> <img width=200 src=\"https://docs.esmvaltool.org/en/latest/_static/ESMValTool-logo.png\">"
   ]
  },
  {
   "cell_type": "markdown",
   "metadata": {},
   "source": [
    "# Operate on the preprocessed data in the Jupyter environment\n",
    "Globally, the execution of ESMValTool consists of two main steps:\n",
    "\n",
    "1. Applying common pre-processor functions to the data\n",
    "2. Running a custom diagnostic script that uses the pre-processed data\n",
    "\n",
    "In a notebook environment, an interesting use case is to skip the second step and analyse the pre-processed data interactively. As such, the notebook provides a very convenient environment to interactively work on some code. But at some point, the notebook can become very long and unorganized. Then, it is both convenient and useful to collect the code in an external (python) script. This script can be edited in the Jupyter Lab environment as well. This may in fact be a very natural workflow to create a diagnostic script."
   ]
  },
  {
   "cell_type": "code",
   "execution_count": null,
   "metadata": {},
   "outputs": [],
   "source": [
    "# The new API is accessible via the esmvalcore.experimental module. These warnings will disappear in the future.\n",
    "import warnings; warnings.filterwarnings('ignore')\n",
    "import esmvalcore.experimental as esmvaltool"
   ]
  },
  {
   "cell_type": "code",
   "execution_count": null,
   "metadata": {},
   "outputs": [],
   "source": [
    "# Running serially is easier for debugging\n",
    "config = esmvaltool.CFG\n",
    "config['max_parallel_tasks'] = 1\n",
    "config"
   ]
  },
  {
   "cell_type": "markdown",
   "metadata": {},
   "source": [
    "# Start with an (almost) empty draft recipe\n",
    "\n",
    "Copy the following into a file called `./recipe_warming_stripes.yml`\n",
    "\n",
    "```Yaml\n",
    "# ESMValTool\n",
    "# recipe_warming_stripes.yml\n",
    "---\n",
    "documentation:\n",
    "  description: Reproduce warming stripes figure by Ed Hawkins\n",
    "\n",
    "  authors:\n",
    "    - kalverla_peter\n",
    "\n",
    "  references:\n",
    "    - acknow_project\n",
    "\n",
    "datasets:\n",
    "  - {dataset: BCC-ESM1, project: CMIP6, mip: Amon, exp: historical, ensemble: r1i1p1f1, grid: gn, start_year: 1850, end_year: 2014}\n",
    "\n",
    "preprocessors: null\n",
    "\n",
    "diagnostics:\n",
    "  global_warming:\n",
    "    variables:\n",
    "      tas:\n",
    "    scripts: null\n",
    "```"
   ]
  },
  {
   "cell_type": "markdown",
   "metadata": {},
   "source": [
    "# Now load this recipe with ESMValTool"
   ]
  },
  {
   "cell_type": "code",
   "execution_count": null,
   "metadata": {},
   "outputs": [],
   "source": [
    "stripes = esmvaltool.get_recipe('./recipe_warming_stripes.yml')\n",
    "stripes"
   ]
  },
  {
   "cell_type": "code",
   "execution_count": null,
   "metadata": {},
   "outputs": [],
   "source": [
    "stripes.run()"
   ]
  },
  {
   "cell_type": "code",
   "execution_count": null,
   "metadata": {},
   "outputs": [],
   "source": [
    "output = stripes.get_output()\n",
    "xrds = output['global_warming/tas'][0].load_xarray()\n",
    "xrds"
   ]
  },
  {
   "cell_type": "markdown",
   "metadata": {},
   "source": [
    "# Pre-process the data using ESMValTool's standardized preprocessors\n",
    "\n",
    "Paste the following snippet into your recipe\n",
    "\n",
    "```Yaml\n",
    "preprocessors:\n",
    "  global_anomalies:\n",
    "    area_statistics:\n",
    "      operator: mean\n",
    "    anomalies:\n",
    "      period: month\n",
    "      reference:\n",
    "        start_year: 1981\n",
    "        start_month: 1\n",
    "        start_day: 1\n",
    "        end_year: 2010\n",
    "        end_month: 12\n",
    "        end_day: 31\n",
    "      standardize: false\n",
    "```\n",
    "\n",
    "Also, under the variable `tas`, add \n",
    "\n",
    "```Yaml\n",
    "tas:\n",
    "  preprocessor: global_anomalies\n",
    "```\n",
    "\n",
    "Then run the recipe again:"
   ]
  },
  {
   "cell_type": "code",
   "execution_count": null,
   "metadata": {},
   "outputs": [],
   "source": [
    "stripes = esmvaltool.get_recipe('./recipe_warming_stripes.yml')\n",
    "output = stripes.run()\n",
    "xrds = output['global_warming/tas'][0].load_xarray()\n",
    "xrds"
   ]
  },
  {
   "cell_type": "markdown",
   "metadata": {},
   "source": [
    "# Let's create a nice visualization"
   ]
  },
  {
   "cell_type": "code",
   "execution_count": null,
   "metadata": {},
   "outputs": [],
   "source": [
    "import numpy as np\n",
    "import matplotlib.pyplot as plt\n",
    "\n",
    "time = xrds.time\n",
    "height = np.array([0, 1])\n",
    "temperature = np.vstack([xrds.tas.values, xrds.tas.values])\n",
    "\n",
    "figure, axes = plt.subplots()\n",
    "axes.pcolormesh(time, height, temperature, cmap='coolwarm', shading='auto')"
   ]
  },
  {
   "cell_type": "markdown",
   "metadata": {},
   "source": [
    "## Move the analysis code to a script\n",
    "\n",
    "As the analysis code grows, it might be useful to move it to a script. Of course it can be any script, but in this demo we'll focus on working towards something we can contribute back to ESMValTool\n",
    "\n",
    "Paste the following boilerplate code into a script called `./stripes.py`\n",
    "\n",
    "```Python\n",
    "\"\"\"Plot timeseries of global temperature anomalies in the \n",
    "form of the popular warming stripes figure by Ed Hawkins.\n",
    "\"\"\"\n",
    "\n",
    "from pathlib import Path\n",
    "import xarray as xr\n",
    "from esmvaltool.diag_scripts.shared import run_diagnostic, save_figure\n",
    "\n",
    "\n",
    "def main(cfg):\n",
    "    \"\"\"Compute the time average for each input dataset.\"\"\"\n",
    "    # Get info on the preprocessed data.\n",
    "    input_data = cfg['input_data'].values()\n",
    "\n",
    "    # Loop over variables/datasets in alphabetical order\n",
    "    for dataset in input_data:\n",
    "        # Load the data with xarray\n",
    "        input_file = dataset['filename']\n",
    "        name = dataset['alias']\n",
    "        xrds = xr.open_dataset(input_file)\n",
    "\n",
    "        # Do awesome stuff\n",
    "\n",
    "        \n",
    "if __name__ == '__main__':\n",
    "\n",
    "    with run_diagnostic() as config:\n",
    "        main(config)\n",
    "```\n",
    "\n",
    "and make sure ESMValTool also runs the script, by adding the following snippet to the recipe (instead of `scripts: null`).\n",
    "\n",
    "```Yaml\n",
    "  scripts:\n",
    "    stripes:\n",
    "      script: ~/stripes.py\n",
    "```\n",
    "\n",
    "This script will not (yet) produce any output, but let's verify that we can actually run it."
   ]
  },
  {
   "cell_type": "code",
   "execution_count": null,
   "metadata": {},
   "outputs": [],
   "source": [
    "stripes = esmvaltool.get_recipe('./recipe_warming_stripes.yml')\n",
    "output = stripes.run()\n",
    "output"
   ]
  },
  {
   "cell_type": "markdown",
   "metadata": {},
   "source": [
    "# Add code to the diagnostic script\n",
    "\n",
    "Let's complete the script by adding our code to the diagnostic script. Note that you'll also need to add the additional import statements.\n",
    "\n",
    "```Python\n",
    "# These should be added at the top\n",
    "import numpy as np\n",
    "import matplotlib.pyplot as plt\n",
    "\n",
    "# These lines should be added where the 'awesome stuff' happens\n",
    "time = xrds.time\n",
    "height = np.array([0, 1])\n",
    "temperature = np.vstack([xrds.tas.values, xrds.tas.values])\n",
    "\n",
    "figure, axes = plt.subplots()\n",
    "axes.pcolormesh(time, height, temperature, cmap='coolwarm', shading='auto')\n",
    "\n",
    "# We'll add some extra code to make sure the output is saved and tracked\n",
    "provenance = {\n",
    "    'caption': f\"Warming stripes for dataset {name}\",\n",
    "    'domains': ['global'],\n",
    "    'authors': ['kalverla_peter'],\n",
    "    'references': ['acknow_project'],\n",
    "    'ancestors': [input_file],\n",
    "}\n",
    "save_figure(name, provenance, config, figure)\n",
    "```\n",
    "\n",
    "And again, try to run the script"
   ]
  },
  {
   "cell_type": "code",
   "execution_count": null,
   "metadata": {},
   "outputs": [],
   "source": [
    "stripes = esmvaltool.get_recipe('./recipe_warming_stripes.yml')\n",
    "output = stripes.run()\n",
    "output"
   ]
  },
  {
   "cell_type": "code",
   "execution_count": null,
   "metadata": {},
   "outputs": [],
   "source": [
    "output['global_warming/stripes'][0]"
   ]
  },
  {
   "cell_type": "markdown",
   "metadata": {},
   "source": [
    "Now you're ready to make your first pull request :-)\n",
    "\n",
    "Happy coding!"
   ]
  }
 ],
 "metadata": {
  "kernelspec": {
   "display_name": "ESMValTool v2.2.0",
   "language": "python",
   "name": "esmvaltool"
  },
  "language_info": {
   "codemirror_mode": {
    "name": "ipython",
    "version": 3
   },
   "file_extension": ".py",
   "mimetype": "text/x-python",
   "name": "python",
   "nbconvert_exporter": "python",
   "pygments_lexer": "ipython3",
   "version": "3.8.6"
  }
 },
 "nbformat": 4,
 "nbformat_minor": 4
}
